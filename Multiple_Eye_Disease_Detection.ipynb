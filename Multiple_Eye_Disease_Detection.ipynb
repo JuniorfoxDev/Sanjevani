{
  "cells": [
    {
      "cell_type": "markdown",
      "metadata": {
        "id": "view-in-github",
        "colab_type": "text"
      },
      "source": [
        "<a href=\"https://colab.research.google.com/github/LuluW8071/Cataract-Normal-Eye-Classification/blob/main/Multiple_Eye_Disease_Detection.ipynb\" target=\"_parent\"><img src=\"https://colab.research.google.com/assets/colab-badge.svg\" alt=\"Open In Colab\"/></a>"
      ]
    },
    {
      "cell_type": "markdown",
      "metadata": {
        "id": "JT96Jf-wM3-x"
      },
      "source": [
        "## Kaggle Token"
      ]
    },
    {
      "cell_type": "code",
      "execution_count": null,
      "metadata": {
        "colab": {
          "base_uri": "https://localhost:8080/"
        },
        "id": "t0K9MpMiKKiU",
        "outputId": "3a10897c-8aeb-4b6e-8fa7-bfc47490bc78"
      },
      "outputs": [
        {
          "name": "stdout",
          "output_type": "stream",
          "text": [
            "Requirement already satisfied: kaggle in /usr/local/lib/python3.10/dist-packages (1.5.16)\n",
            "Requirement already satisfied: six>=1.10 in /usr/local/lib/python3.10/dist-packages (from kaggle) (1.16.0)\n",
            "Requirement already satisfied: certifi in /usr/local/lib/python3.10/dist-packages (from kaggle) (2024.2.2)\n",
            "Requirement already satisfied: python-dateutil in /usr/local/lib/python3.10/dist-packages (from kaggle) (2.8.2)\n",
            "Requirement already satisfied: requests in /usr/local/lib/python3.10/dist-packages (from kaggle) (2.31.0)\n",
            "Requirement already satisfied: tqdm in /usr/local/lib/python3.10/dist-packages (from kaggle) (4.66.1)\n",
            "Requirement already satisfied: python-slugify in /usr/local/lib/python3.10/dist-packages (from kaggle) (8.0.3)\n",
            "Requirement already satisfied: urllib3 in /usr/local/lib/python3.10/dist-packages (from kaggle) (2.0.7)\n",
            "Requirement already satisfied: bleach in /usr/local/lib/python3.10/dist-packages (from kaggle) (6.1.0)\n",
            "Requirement already satisfied: webencodings in /usr/local/lib/python3.10/dist-packages (from bleach->kaggle) (0.5.1)\n",
            "Requirement already satisfied: text-unidecode>=1.3 in /usr/local/lib/python3.10/dist-packages (from python-slugify->kaggle) (1.3)\n",
            "Requirement already satisfied: charset-normalizer<4,>=2 in /usr/local/lib/python3.10/dist-packages (from requests->kaggle) (3.3.2)\n",
            "Requirement already satisfied: idna<4,>=2.5 in /usr/local/lib/python3.10/dist-packages (from requests->kaggle) (3.6)\n"
          ]
        }
      ],
      "source": [
        "!pip install kaggle"
      ]
    },
    {
      "cell_type": "code",
      "execution_count": null,
      "metadata": {
        "colab": {
          "base_uri": "https://localhost:8080/",
          "height": 71
        },
        "id": "jQZICxy_KPFO",
        "outputId": "c7c3071e-2411-4773-a122-b552cbce647e"
      },
      "outputs": [
        {
          "output_type": "display_data",
          "data": {
            "text/plain": [
              "<IPython.core.display.HTML object>"
            ],
            "text/html": [
              "\n",
              "     <input type=\"file\" id=\"files-f025015e-c18d-4c9e-8a59-20c99d570620\" name=\"files[]\" multiple disabled\n",
              "        style=\"border:none\" />\n",
              "     <output id=\"result-f025015e-c18d-4c9e-8a59-20c99d570620\">\n",
              "      Upload widget is only available when the cell has been executed in the\n",
              "      current browser session. Please rerun this cell to enable.\n",
              "      </output>\n",
              "      <script>// Copyright 2017 Google LLC\n",
              "//\n",
              "// Licensed under the Apache License, Version 2.0 (the \"License\");\n",
              "// you may not use this file except in compliance with the License.\n",
              "// You may obtain a copy of the License at\n",
              "//\n",
              "//      http://www.apache.org/licenses/LICENSE-2.0\n",
              "//\n",
              "// Unless required by applicable law or agreed to in writing, software\n",
              "// distributed under the License is distributed on an \"AS IS\" BASIS,\n",
              "// WITHOUT WARRANTIES OR CONDITIONS OF ANY KIND, either express or implied.\n",
              "// See the License for the specific language governing permissions and\n",
              "// limitations under the License.\n",
              "\n",
              "/**\n",
              " * @fileoverview Helpers for google.colab Python module.\n",
              " */\n",
              "(function(scope) {\n",
              "function span(text, styleAttributes = {}) {\n",
              "  const element = document.createElement('span');\n",
              "  element.textContent = text;\n",
              "  for (const key of Object.keys(styleAttributes)) {\n",
              "    element.style[key] = styleAttributes[key];\n",
              "  }\n",
              "  return element;\n",
              "}\n",
              "\n",
              "// Max number of bytes which will be uploaded at a time.\n",
              "const MAX_PAYLOAD_SIZE = 100 * 1024;\n",
              "\n",
              "function _uploadFiles(inputId, outputId) {\n",
              "  const steps = uploadFilesStep(inputId, outputId);\n",
              "  const outputElement = document.getElementById(outputId);\n",
              "  // Cache steps on the outputElement to make it available for the next call\n",
              "  // to uploadFilesContinue from Python.\n",
              "  outputElement.steps = steps;\n",
              "\n",
              "  return _uploadFilesContinue(outputId);\n",
              "}\n",
              "\n",
              "// This is roughly an async generator (not supported in the browser yet),\n",
              "// where there are multiple asynchronous steps and the Python side is going\n",
              "// to poll for completion of each step.\n",
              "// This uses a Promise to block the python side on completion of each step,\n",
              "// then passes the result of the previous step as the input to the next step.\n",
              "function _uploadFilesContinue(outputId) {\n",
              "  const outputElement = document.getElementById(outputId);\n",
              "  const steps = outputElement.steps;\n",
              "\n",
              "  const next = steps.next(outputElement.lastPromiseValue);\n",
              "  return Promise.resolve(next.value.promise).then((value) => {\n",
              "    // Cache the last promise value to make it available to the next\n",
              "    // step of the generator.\n",
              "    outputElement.lastPromiseValue = value;\n",
              "    return next.value.response;\n",
              "  });\n",
              "}\n",
              "\n",
              "/**\n",
              " * Generator function which is called between each async step of the upload\n",
              " * process.\n",
              " * @param {string} inputId Element ID of the input file picker element.\n",
              " * @param {string} outputId Element ID of the output display.\n",
              " * @return {!Iterable<!Object>} Iterable of next steps.\n",
              " */\n",
              "function* uploadFilesStep(inputId, outputId) {\n",
              "  const inputElement = document.getElementById(inputId);\n",
              "  inputElement.disabled = false;\n",
              "\n",
              "  const outputElement = document.getElementById(outputId);\n",
              "  outputElement.innerHTML = '';\n",
              "\n",
              "  const pickedPromise = new Promise((resolve) => {\n",
              "    inputElement.addEventListener('change', (e) => {\n",
              "      resolve(e.target.files);\n",
              "    });\n",
              "  });\n",
              "\n",
              "  const cancel = document.createElement('button');\n",
              "  inputElement.parentElement.appendChild(cancel);\n",
              "  cancel.textContent = 'Cancel upload';\n",
              "  const cancelPromise = new Promise((resolve) => {\n",
              "    cancel.onclick = () => {\n",
              "      resolve(null);\n",
              "    };\n",
              "  });\n",
              "\n",
              "  // Wait for the user to pick the files.\n",
              "  const files = yield {\n",
              "    promise: Promise.race([pickedPromise, cancelPromise]),\n",
              "    response: {\n",
              "      action: 'starting',\n",
              "    }\n",
              "  };\n",
              "\n",
              "  cancel.remove();\n",
              "\n",
              "  // Disable the input element since further picks are not allowed.\n",
              "  inputElement.disabled = true;\n",
              "\n",
              "  if (!files) {\n",
              "    return {\n",
              "      response: {\n",
              "        action: 'complete',\n",
              "      }\n",
              "    };\n",
              "  }\n",
              "\n",
              "  for (const file of files) {\n",
              "    const li = document.createElement('li');\n",
              "    li.append(span(file.name, {fontWeight: 'bold'}));\n",
              "    li.append(span(\n",
              "        `(${file.type || 'n/a'}) - ${file.size} bytes, ` +\n",
              "        `last modified: ${\n",
              "            file.lastModifiedDate ? file.lastModifiedDate.toLocaleDateString() :\n",
              "                                    'n/a'} - `));\n",
              "    const percent = span('0% done');\n",
              "    li.appendChild(percent);\n",
              "\n",
              "    outputElement.appendChild(li);\n",
              "\n",
              "    const fileDataPromise = new Promise((resolve) => {\n",
              "      const reader = new FileReader();\n",
              "      reader.onload = (e) => {\n",
              "        resolve(e.target.result);\n",
              "      };\n",
              "      reader.readAsArrayBuffer(file);\n",
              "    });\n",
              "    // Wait for the data to be ready.\n",
              "    let fileData = yield {\n",
              "      promise: fileDataPromise,\n",
              "      response: {\n",
              "        action: 'continue',\n",
              "      }\n",
              "    };\n",
              "\n",
              "    // Use a chunked sending to avoid message size limits. See b/62115660.\n",
              "    let position = 0;\n",
              "    do {\n",
              "      const length = Math.min(fileData.byteLength - position, MAX_PAYLOAD_SIZE);\n",
              "      const chunk = new Uint8Array(fileData, position, length);\n",
              "      position += length;\n",
              "\n",
              "      const base64 = btoa(String.fromCharCode.apply(null, chunk));\n",
              "      yield {\n",
              "        response: {\n",
              "          action: 'append',\n",
              "          file: file.name,\n",
              "          data: base64,\n",
              "        },\n",
              "      };\n",
              "\n",
              "      let percentDone = fileData.byteLength === 0 ?\n",
              "          100 :\n",
              "          Math.round((position / fileData.byteLength) * 100);\n",
              "      percent.textContent = `${percentDone}% done`;\n",
              "\n",
              "    } while (position < fileData.byteLength);\n",
              "  }\n",
              "\n",
              "  // All done.\n",
              "  yield {\n",
              "    response: {\n",
              "      action: 'complete',\n",
              "    }\n",
              "  };\n",
              "}\n",
              "\n",
              "scope.google = scope.google || {};\n",
              "scope.google.colab = scope.google.colab || {};\n",
              "scope.google.colab._files = {\n",
              "  _uploadFiles,\n",
              "  _uploadFilesContinue,\n",
              "};\n",
              "})(self);\n",
              "</script> "
            ]
          },
          "metadata": {}
        },
        {
          "output_type": "stream",
          "name": "stdout",
          "text": [
            "Saving kaggle.json to kaggle.json\n"
          ]
        }
      ],
      "source": [
        "from google.colab import files\n",
        "\n",
        "# Upload kaggle.json from kaggle_account > your_profile > API section > Create new token\n",
        "files.upload();"
      ]
    },
    {
      "cell_type": "markdown",
      "metadata": {
        "id": "dIUMpNaUM8Bh"
      },
      "source": [
        "## Download Dataset and Extract"
      ]
    },
    {
      "cell_type": "code",
      "execution_count": null,
      "metadata": {
        "colab": {
          "base_uri": "https://localhost:8080/"
        },
        "id": "7_tlWFN4KYDH",
        "outputId": "7823e588-2ee0-4add-bb74-566e29e5acbf"
      },
      "outputs": [
        {
          "output_type": "stream",
          "name": "stdout",
          "text": [
            "Downloading ocular-disease-recognition-odir5k.zip to /content\n",
            "100% 1.62G/1.62G [00:17<00:00, 121MB/s] \n",
            "100% 1.62G/1.62G [00:17<00:00, 97.0MB/s]\n"
          ]
        }
      ],
      "source": [
        "!mkdir -p ~/.kaggle\n",
        "!mv kaggle.json ~/.kaggle/\n",
        "!chmod 600 ~/.kaggle/kaggle.json\n",
        "\n",
        "# Download dataset from kaggle\n",
        "!kaggle datasets download -d andrewmvd/ocular-disease-recognition-odir5k"
      ]
    },
    {
      "cell_type": "code",
      "execution_count": null,
      "metadata": {
        "colab": {
          "base_uri": "https://localhost:8080/",
          "height": 66,
          "referenced_widgets": [
            "1611a90cf2b9494d85312c34baa72257",
            "8fd9aab06b5a4d9ea1b7be871881aa88",
            "a89c5c4c57f04e0695dabf70f0d1d2d5",
            "cbbec3d3b91e423e834d88ace1d02975",
            "0c13302c0d004e4eb4a7d5ae9c3469c2",
            "9f6498837e1f48cf8d29ad7c6a8dd758",
            "cf9d26e51a9e4c3e88d722450c0524c6",
            "4ad7e9ae229f48088efa03ee75cf6dda",
            "2b79e2b746ed47159ffde664c2ac7126",
            "0687dba7c2884daa8266037f37b1ba3f",
            "a3a55a102d5c439ead4074f3176db637"
          ]
        },
        "id": "-SXIDnblMBs0",
        "outputId": "bbc05beb-a036-4b00-e2f3-11b6692aacef"
      },
      "outputs": [
        {
          "output_type": "display_data",
          "data": {
            "text/plain": [
              "Extracting:   0%|          | 0/14394 [00:00<?, ?it/s]"
            ],
            "application/vnd.jupyter.widget-view+json": {
              "version_major": 2,
              "version_minor": 0,
              "model_id": "1611a90cf2b9494d85312c34baa72257"
            }
          },
          "metadata": {}
        },
        {
          "output_type": "stream",
          "name": "stdout",
          "text": [
            "Dataset extracted to dataset folder\n"
          ]
        }
      ],
      "source": [
        "from tqdm.notebook import tqdm\n",
        "import zipfile\n",
        "\n",
        "zip_file_path = 'ocular-disease-recognition-odir5k.zip'\n",
        "extracted_dir = 'dataset'\n",
        "\n",
        "with zipfile.ZipFile(zip_file_path, 'r') as zip_ref:\n",
        "    for file in tqdm(iterable=zip_ref.namelist(), total=len(zip_ref.namelist()), desc='Extracting'):\n",
        "        zip_ref.extract(file, extracted_dir)\n",
        "\n",
        "print(f\"Dataset extracted to {extracted_dir} folder\")"
      ]
    },
    {
      "cell_type": "code",
      "execution_count": null,
      "metadata": {
        "id": "g3S6r5y7LlC9"
      },
      "outputs": [],
      "source": [
        "import numpy as np\n",
        "import pandas as pd\n",
        "import cv2\n",
        "import random\n",
        "import matplotlib.pyplot as plt\n",
        "import os"
      ]
    },
    {
      "cell_type": "code",
      "execution_count": null,
      "metadata": {
        "colab": {
          "base_uri": "https://localhost:8080/"
        },
        "id": "-2ySm4G0ND2h",
        "outputId": "0f046089-0af9-405d-8127-8bf6c1a35566"
      },
      "outputs": [
        {
          "output_type": "stream",
          "name": "stdout",
          "text": [
            "<class 'pandas.core.frame.DataFrame'>\n",
            "RangeIndex: 6392 entries, 0 to 6391\n",
            "Data columns (total 19 columns):\n",
            " #   Column                     Non-Null Count  Dtype \n",
            "---  ------                     --------------  ----- \n",
            " 0   ID                         6392 non-null   int64 \n",
            " 1   Patient Age                6392 non-null   int64 \n",
            " 2   Patient Sex                6392 non-null   object\n",
            " 3   Left-Fundus                6392 non-null   object\n",
            " 4   Right-Fundus               6392 non-null   object\n",
            " 5   Left-Diagnostic Keywords   6392 non-null   object\n",
            " 6   Right-Diagnostic Keywords  6392 non-null   object\n",
            " 7   N                          6392 non-null   int64 \n",
            " 8   D                          6392 non-null   int64 \n",
            " 9   G                          6392 non-null   int64 \n",
            " 10  C                          6392 non-null   int64 \n",
            " 11  A                          6392 non-null   int64 \n",
            " 12  H                          6392 non-null   int64 \n",
            " 13  M                          6392 non-null   int64 \n",
            " 14  O                          6392 non-null   int64 \n",
            " 15  filepath                   6392 non-null   object\n",
            " 16  labels                     6392 non-null   object\n",
            " 17  target                     6392 non-null   object\n",
            " 18  filename                   6392 non-null   object\n",
            "dtypes: int64(10), object(9)\n",
            "memory usage: 948.9+ KB\n"
          ]
        }
      ],
      "source": [
        "df = pd.read_csv(\"dataset/full_df.csv\")\n",
        "df.info()"
      ]
    },
    {
      "cell_type": "code",
      "execution_count": null,
      "metadata": {
        "colab": {
          "base_uri": "https://localhost:8080/",
          "height": 389
        },
        "id": "naC0CTeZtzvg",
        "outputId": "2bb34736-58f6-405d-e09d-eff0552ee049"
      },
      "outputs": [
        {
          "output_type": "execute_result",
          "data": {
            "text/plain": [
              "        ID  Patient Age Patient Sex    Left-Fundus    Right-Fundus  \\\n",
              "5360  3045           32      Female  3045_left.jpg  3045_right.jpg   \n",
              "60      74           68        Male    74_left.jpg    74_right.jpg   \n",
              "1330  1885           66        Male  1885_left.jpg  1885_right.jpg   \n",
              "\n",
              "                               Left-Diagnostic Keywords  \\\n",
              "5360                                      normal fundus   \n",
              "60    laser spot，white vessel，moderate non prolifera...   \n",
              "1330               dry age-related macular degeneration   \n",
              "\n",
              "                 Right-Diagnostic Keywords  N  D  G  C  A  H  M  O  \\\n",
              "5360                         normal fundus  1  0  0  0  0  0  0  0   \n",
              "60                           normal fundus  0  1  0  0  0  0  0  1   \n",
              "1330  wet age-related macular degeneration  0  0  0  0  1  0  0  0   \n",
              "\n",
              "                                               filepath labels  \\\n",
              "5360  ../input/ocular-disease-recognition-odir5k/ODI...  ['N']   \n",
              "60    ../input/ocular-disease-recognition-odir5k/ODI...  ['N']   \n",
              "1330  ../input/ocular-disease-recognition-odir5k/ODI...  ['A']   \n",
              "\n",
              "                        target        filename  \n",
              "5360  [1, 0, 0, 0, 0, 0, 0, 0]   3045_left.jpg  \n",
              "60    [1, 0, 0, 0, 0, 0, 0, 0]    74_right.jpg  \n",
              "1330  [0, 0, 0, 0, 1, 0, 0, 0]  1885_right.jpg  "
            ],
            "text/html": [
              "\n",
              "  <div id=\"df-18aade33-13ba-4882-b20b-25b80c006ef6\" class=\"colab-df-container\">\n",
              "    <div>\n",
              "<style scoped>\n",
              "    .dataframe tbody tr th:only-of-type {\n",
              "        vertical-align: middle;\n",
              "    }\n",
              "\n",
              "    .dataframe tbody tr th {\n",
              "        vertical-align: top;\n",
              "    }\n",
              "\n",
              "    .dataframe thead th {\n",
              "        text-align: right;\n",
              "    }\n",
              "</style>\n",
              "<table border=\"1\" class=\"dataframe\">\n",
              "  <thead>\n",
              "    <tr style=\"text-align: right;\">\n",
              "      <th></th>\n",
              "      <th>ID</th>\n",
              "      <th>Patient Age</th>\n",
              "      <th>Patient Sex</th>\n",
              "      <th>Left-Fundus</th>\n",
              "      <th>Right-Fundus</th>\n",
              "      <th>Left-Diagnostic Keywords</th>\n",
              "      <th>Right-Diagnostic Keywords</th>\n",
              "      <th>N</th>\n",
              "      <th>D</th>\n",
              "      <th>G</th>\n",
              "      <th>C</th>\n",
              "      <th>A</th>\n",
              "      <th>H</th>\n",
              "      <th>M</th>\n",
              "      <th>O</th>\n",
              "      <th>filepath</th>\n",
              "      <th>labels</th>\n",
              "      <th>target</th>\n",
              "      <th>filename</th>\n",
              "    </tr>\n",
              "  </thead>\n",
              "  <tbody>\n",
              "    <tr>\n",
              "      <th>5360</th>\n",
              "      <td>3045</td>\n",
              "      <td>32</td>\n",
              "      <td>Female</td>\n",
              "      <td>3045_left.jpg</td>\n",
              "      <td>3045_right.jpg</td>\n",
              "      <td>normal fundus</td>\n",
              "      <td>normal fundus</td>\n",
              "      <td>1</td>\n",
              "      <td>0</td>\n",
              "      <td>0</td>\n",
              "      <td>0</td>\n",
              "      <td>0</td>\n",
              "      <td>0</td>\n",
              "      <td>0</td>\n",
              "      <td>0</td>\n",
              "      <td>../input/ocular-disease-recognition-odir5k/ODI...</td>\n",
              "      <td>['N']</td>\n",
              "      <td>[1, 0, 0, 0, 0, 0, 0, 0]</td>\n",
              "      <td>3045_left.jpg</td>\n",
              "    </tr>\n",
              "    <tr>\n",
              "      <th>60</th>\n",
              "      <td>74</td>\n",
              "      <td>68</td>\n",
              "      <td>Male</td>\n",
              "      <td>74_left.jpg</td>\n",
              "      <td>74_right.jpg</td>\n",
              "      <td>laser spot，white vessel，moderate non prolifera...</td>\n",
              "      <td>normal fundus</td>\n",
              "      <td>0</td>\n",
              "      <td>1</td>\n",
              "      <td>0</td>\n",
              "      <td>0</td>\n",
              "      <td>0</td>\n",
              "      <td>0</td>\n",
              "      <td>0</td>\n",
              "      <td>1</td>\n",
              "      <td>../input/ocular-disease-recognition-odir5k/ODI...</td>\n",
              "      <td>['N']</td>\n",
              "      <td>[1, 0, 0, 0, 0, 0, 0, 0]</td>\n",
              "      <td>74_right.jpg</td>\n",
              "    </tr>\n",
              "    <tr>\n",
              "      <th>1330</th>\n",
              "      <td>1885</td>\n",
              "      <td>66</td>\n",
              "      <td>Male</td>\n",
              "      <td>1885_left.jpg</td>\n",
              "      <td>1885_right.jpg</td>\n",
              "      <td>dry age-related macular degeneration</td>\n",
              "      <td>wet age-related macular degeneration</td>\n",
              "      <td>0</td>\n",
              "      <td>0</td>\n",
              "      <td>0</td>\n",
              "      <td>0</td>\n",
              "      <td>1</td>\n",
              "      <td>0</td>\n",
              "      <td>0</td>\n",
              "      <td>0</td>\n",
              "      <td>../input/ocular-disease-recognition-odir5k/ODI...</td>\n",
              "      <td>['A']</td>\n",
              "      <td>[0, 0, 0, 0, 1, 0, 0, 0]</td>\n",
              "      <td>1885_right.jpg</td>\n",
              "    </tr>\n",
              "  </tbody>\n",
              "</table>\n",
              "</div>\n",
              "    <div class=\"colab-df-buttons\">\n",
              "\n",
              "  <div class=\"colab-df-container\">\n",
              "    <button class=\"colab-df-convert\" onclick=\"convertToInteractive('df-18aade33-13ba-4882-b20b-25b80c006ef6')\"\n",
              "            title=\"Convert this dataframe to an interactive table.\"\n",
              "            style=\"display:none;\">\n",
              "\n",
              "  <svg xmlns=\"http://www.w3.org/2000/svg\" height=\"24px\" viewBox=\"0 -960 960 960\">\n",
              "    <path d=\"M120-120v-720h720v720H120Zm60-500h600v-160H180v160Zm220 220h160v-160H400v160Zm0 220h160v-160H400v160ZM180-400h160v-160H180v160Zm440 0h160v-160H620v160ZM180-180h160v-160H180v160Zm440 0h160v-160H620v160Z\"/>\n",
              "  </svg>\n",
              "    </button>\n",
              "\n",
              "  <style>\n",
              "    .colab-df-container {\n",
              "      display:flex;\n",
              "      gap: 12px;\n",
              "    }\n",
              "\n",
              "    .colab-df-convert {\n",
              "      background-color: #E8F0FE;\n",
              "      border: none;\n",
              "      border-radius: 50%;\n",
              "      cursor: pointer;\n",
              "      display: none;\n",
              "      fill: #1967D2;\n",
              "      height: 32px;\n",
              "      padding: 0 0 0 0;\n",
              "      width: 32px;\n",
              "    }\n",
              "\n",
              "    .colab-df-convert:hover {\n",
              "      background-color: #E2EBFA;\n",
              "      box-shadow: 0px 1px 2px rgba(60, 64, 67, 0.3), 0px 1px 3px 1px rgba(60, 64, 67, 0.15);\n",
              "      fill: #174EA6;\n",
              "    }\n",
              "\n",
              "    .colab-df-buttons div {\n",
              "      margin-bottom: 4px;\n",
              "    }\n",
              "\n",
              "    [theme=dark] .colab-df-convert {\n",
              "      background-color: #3B4455;\n",
              "      fill: #D2E3FC;\n",
              "    }\n",
              "\n",
              "    [theme=dark] .colab-df-convert:hover {\n",
              "      background-color: #434B5C;\n",
              "      box-shadow: 0px 1px 3px 1px rgba(0, 0, 0, 0.15);\n",
              "      filter: drop-shadow(0px 1px 2px rgba(0, 0, 0, 0.3));\n",
              "      fill: #FFFFFF;\n",
              "    }\n",
              "  </style>\n",
              "\n",
              "    <script>\n",
              "      const buttonEl =\n",
              "        document.querySelector('#df-18aade33-13ba-4882-b20b-25b80c006ef6 button.colab-df-convert');\n",
              "      buttonEl.style.display =\n",
              "        google.colab.kernel.accessAllowed ? 'block' : 'none';\n",
              "\n",
              "      async function convertToInteractive(key) {\n",
              "        const element = document.querySelector('#df-18aade33-13ba-4882-b20b-25b80c006ef6');\n",
              "        const dataTable =\n",
              "          await google.colab.kernel.invokeFunction('convertToInteractive',\n",
              "                                                    [key], {});\n",
              "        if (!dataTable) return;\n",
              "\n",
              "        const docLinkHtml = 'Like what you see? Visit the ' +\n",
              "          '<a target=\"_blank\" href=https://colab.research.google.com/notebooks/data_table.ipynb>data table notebook</a>'\n",
              "          + ' to learn more about interactive tables.';\n",
              "        element.innerHTML = '';\n",
              "        dataTable['output_type'] = 'display_data';\n",
              "        await google.colab.output.renderOutput(dataTable, element);\n",
              "        const docLink = document.createElement('div');\n",
              "        docLink.innerHTML = docLinkHtml;\n",
              "        element.appendChild(docLink);\n",
              "      }\n",
              "    </script>\n",
              "  </div>\n",
              "\n",
              "\n",
              "<div id=\"df-b06b6aa5-f5f5-4139-bd85-482c5a9d3019\">\n",
              "  <button class=\"colab-df-quickchart\" onclick=\"quickchart('df-b06b6aa5-f5f5-4139-bd85-482c5a9d3019')\"\n",
              "            title=\"Suggest charts\"\n",
              "            style=\"display:none;\">\n",
              "\n",
              "<svg xmlns=\"http://www.w3.org/2000/svg\" height=\"24px\"viewBox=\"0 0 24 24\"\n",
              "     width=\"24px\">\n",
              "    <g>\n",
              "        <path d=\"M19 3H5c-1.1 0-2 .9-2 2v14c0 1.1.9 2 2 2h14c1.1 0 2-.9 2-2V5c0-1.1-.9-2-2-2zM9 17H7v-7h2v7zm4 0h-2V7h2v10zm4 0h-2v-4h2v4z\"/>\n",
              "    </g>\n",
              "</svg>\n",
              "  </button>\n",
              "\n",
              "<style>\n",
              "  .colab-df-quickchart {\n",
              "      --bg-color: #E8F0FE;\n",
              "      --fill-color: #1967D2;\n",
              "      --hover-bg-color: #E2EBFA;\n",
              "      --hover-fill-color: #174EA6;\n",
              "      --disabled-fill-color: #AAA;\n",
              "      --disabled-bg-color: #DDD;\n",
              "  }\n",
              "\n",
              "  [theme=dark] .colab-df-quickchart {\n",
              "      --bg-color: #3B4455;\n",
              "      --fill-color: #D2E3FC;\n",
              "      --hover-bg-color: #434B5C;\n",
              "      --hover-fill-color: #FFFFFF;\n",
              "      --disabled-bg-color: #3B4455;\n",
              "      --disabled-fill-color: #666;\n",
              "  }\n",
              "\n",
              "  .colab-df-quickchart {\n",
              "    background-color: var(--bg-color);\n",
              "    border: none;\n",
              "    border-radius: 50%;\n",
              "    cursor: pointer;\n",
              "    display: none;\n",
              "    fill: var(--fill-color);\n",
              "    height: 32px;\n",
              "    padding: 0;\n",
              "    width: 32px;\n",
              "  }\n",
              "\n",
              "  .colab-df-quickchart:hover {\n",
              "    background-color: var(--hover-bg-color);\n",
              "    box-shadow: 0 1px 2px rgba(60, 64, 67, 0.3), 0 1px 3px 1px rgba(60, 64, 67, 0.15);\n",
              "    fill: var(--button-hover-fill-color);\n",
              "  }\n",
              "\n",
              "  .colab-df-quickchart-complete:disabled,\n",
              "  .colab-df-quickchart-complete:disabled:hover {\n",
              "    background-color: var(--disabled-bg-color);\n",
              "    fill: var(--disabled-fill-color);\n",
              "    box-shadow: none;\n",
              "  }\n",
              "\n",
              "  .colab-df-spinner {\n",
              "    border: 2px solid var(--fill-color);\n",
              "    border-color: transparent;\n",
              "    border-bottom-color: var(--fill-color);\n",
              "    animation:\n",
              "      spin 1s steps(1) infinite;\n",
              "  }\n",
              "\n",
              "  @keyframes spin {\n",
              "    0% {\n",
              "      border-color: transparent;\n",
              "      border-bottom-color: var(--fill-color);\n",
              "      border-left-color: var(--fill-color);\n",
              "    }\n",
              "    20% {\n",
              "      border-color: transparent;\n",
              "      border-left-color: var(--fill-color);\n",
              "      border-top-color: var(--fill-color);\n",
              "    }\n",
              "    30% {\n",
              "      border-color: transparent;\n",
              "      border-left-color: var(--fill-color);\n",
              "      border-top-color: var(--fill-color);\n",
              "      border-right-color: var(--fill-color);\n",
              "    }\n",
              "    40% {\n",
              "      border-color: transparent;\n",
              "      border-right-color: var(--fill-color);\n",
              "      border-top-color: var(--fill-color);\n",
              "    }\n",
              "    60% {\n",
              "      border-color: transparent;\n",
              "      border-right-color: var(--fill-color);\n",
              "    }\n",
              "    80% {\n",
              "      border-color: transparent;\n",
              "      border-right-color: var(--fill-color);\n",
              "      border-bottom-color: var(--fill-color);\n",
              "    }\n",
              "    90% {\n",
              "      border-color: transparent;\n",
              "      border-bottom-color: var(--fill-color);\n",
              "    }\n",
              "  }\n",
              "</style>\n",
              "\n",
              "  <script>\n",
              "    async function quickchart(key) {\n",
              "      const quickchartButtonEl =\n",
              "        document.querySelector('#' + key + ' button');\n",
              "      quickchartButtonEl.disabled = true;  // To prevent multiple clicks.\n",
              "      quickchartButtonEl.classList.add('colab-df-spinner');\n",
              "      try {\n",
              "        const charts = await google.colab.kernel.invokeFunction(\n",
              "            'suggestCharts', [key], {});\n",
              "      } catch (error) {\n",
              "        console.error('Error during call to suggestCharts:', error);\n",
              "      }\n",
              "      quickchartButtonEl.classList.remove('colab-df-spinner');\n",
              "      quickchartButtonEl.classList.add('colab-df-quickchart-complete');\n",
              "    }\n",
              "    (() => {\n",
              "      let quickchartButtonEl =\n",
              "        document.querySelector('#df-b06b6aa5-f5f5-4139-bd85-482c5a9d3019 button');\n",
              "      quickchartButtonEl.style.display =\n",
              "        google.colab.kernel.accessAllowed ? 'block' : 'none';\n",
              "    })();\n",
              "  </script>\n",
              "</div>\n",
              "\n",
              "    </div>\n",
              "  </div>\n"
            ]
          },
          "metadata": {},
          "execution_count": 3
        }
      ],
      "source": [
        "df.sample(3)"
      ]
    },
    {
      "cell_type": "code",
      "execution_count": null,
      "metadata": {
        "colab": {
          "base_uri": "https://localhost:8080/"
        },
        "id": "o2Q7D-pqjx2C",
        "outputId": "3fd55052-3704-4c2d-dd3f-6617a71a98a8"
      },
      "outputs": [
        {
          "output_type": "execute_result",
          "data": {
            "text/plain": [
              "0    N\n",
              "1    N\n",
              "2    D\n",
              "3    D\n",
              "4    D\n",
              "Name: labels, dtype: object"
            ]
          },
          "metadata": {},
          "execution_count": 4
        }
      ],
      "source": [
        "df['labels'] = df['labels'].str.replace('[', '', regex=True).str.replace(']', '', regex=True)\n",
        "df['labels'] = df['labels'].str.replace(\"'\", '', regex=True)\n",
        "\n",
        "df['labels'][:5]"
      ]
    },
    {
      "cell_type": "code",
      "execution_count": null,
      "metadata": {
        "id": "6VtKXr0hNNDC"
      },
      "outputs": [],
      "source": [
        "# Left_Eye_Dataset\n",
        "left_glaucoma = df.loc[(df.labels == 'G')][\"Left-Fundus\"]\n",
        "left_cataract = df.loc[(df.labels == 'C')][\"Left-Fundus\"]\n",
        "left_age_related = df.loc[(df.labels == 'A')][\"Left-Fundus\"]\n",
        "left_hypertension = df.loc[(df.labels == 'H')][\"Left-Fundus\"]\n",
        "left_myopia = df.loc[(df.labels == 'M')][\"Left-Fundus\"]\n",
        "\n",
        "# Right_Eye_Dataset\n",
        "right_glaucoma = df.loc[(df.labels == 'G')][\"Right-Fundus\"]\n",
        "right_cataract = df.loc[(df.labels == 'C')][\"Right-Fundus\"]\n",
        "right_age_related = df.loc[(df.labels == 'A')][\"Right-Fundus\"]\n",
        "right_hypertension = df.loc[(df.labels == 'H')][\"Right-Fundus\"]\n",
        "right_myopia = df.loc[(df.labels == 'M')][\"Right-Fundus\"]\n",
        "\n",
        "# Dataset Image from filename columns\n",
        "# Using Right And Left Eye Dataset for less eye defect category\n",
        "normal = np.array(df.loc[(df.labels == 'N')][\"filename\"])\n",
        "diabetes = np.array(df.loc[(df.labels == 'D')][\"filename\"])\n",
        "glaucoma = np.concatenate((left_glaucoma, right_glaucoma), axis = 0)\n",
        "cataract = np.concatenate((left_cataract, right_cataract), axis= 0)\n",
        "age_related = np.concatenate((left_age_related, right_age_related), axis= 0)\n",
        "hypertension = np.concatenate((left_hypertension, right_hypertension), axis= 0)\n",
        "myopia = np.concatenate((left_myopia, right_myopia), axis= 0)\n",
        "other = np.array(df.loc[(df.labels == 'O')][\"filename\"])"
      ]
    },
    {
      "cell_type": "code",
      "execution_count": null,
      "metadata": {
        "colab": {
          "base_uri": "https://localhost:8080/"
        },
        "id": "7NWy3M-dNPEB",
        "outputId": "5d635216-0953-421a-aa84-ee9da9717d85"
      },
      "outputs": [
        {
          "output_type": "stream",
          "name": "stdout",
          "text": [
            "Length of Normal category: 2873\n",
            "Length of Diabetes category: 1608\n",
            "Length of Glaucoma category: 568\n",
            "Length of Cataract category: 586\n",
            "Length of Age-related category: 532\n",
            "Length of Hypertension category: 256\n",
            "Length of Myopia category: 464\n",
            "Length of Other category: 708\n",
            "Combined: 7595\n"
          ]
        }
      ],
      "source": [
        "print(\"Length of Normal category:\", len(normal))\n",
        "print(\"Length of Diabetes category:\", len(diabetes))\n",
        "print(\"Length of Glaucoma category:\", len(glaucoma))\n",
        "print(\"Length of Cataract category:\", len(cataract))\n",
        "print(\"Length of Age-related category:\", len(age_related))\n",
        "print(\"Length of Hypertension category:\", len(hypertension))\n",
        "print(\"Length of Myopia category:\", len(myopia))\n",
        "print(\"Length of Other category:\", len(other))\n",
        "\n",
        "print(\"Combined:\", len(normal) + len(diabetes) + len(glaucoma) + len(cataract) + len(age_related) + len(hypertension) + len(myopia) + len(other))"
      ]
    },
    {
      "cell_type": "markdown",
      "metadata": {
        "id": "vVeu-_0aySDK"
      },
      "source": [
        "Lets even out the data distribution so we dont see biasness towards prediction of normal, diabetes, and other"
      ]
    },
    {
      "cell_type": "code",
      "execution_count": null,
      "metadata": {
        "colab": {
          "base_uri": "https://localhost:8080/"
        },
        "id": "Y5E8zQgiNcy2",
        "outputId": "9b3b4922-9cf6-41d7-ad58-52d3c519c963"
      },
      "outputs": [
        {
          "output_type": "stream",
          "name": "stdout",
          "text": [
            "900 944 750\n",
            "Combined: 5000\n"
          ]
        }
      ],
      "source": [
        "normal = np.random.choice(normal, size=900, replace=True)\n",
        "diabetes = np.random.choice(diabetes, size=944, replace=True)\n",
        "other = np.random.choice(other, size=750, replace=True)\n",
        "\n",
        "print(len(normal), len(diabetes), len(other))\n",
        "print(\"Combined:\", len(normal) + len(diabetes) + len(glaucoma) + len(cataract) + len(age_related) + len(hypertension) + len(myopia) + len(other))"
      ]
    },
    {
      "cell_type": "markdown",
      "metadata": {
        "id": "4Tl4QsvaXaMq"
      },
      "source": [
        "## PyTorch"
      ]
    },
    {
      "cell_type": "code",
      "execution_count": null,
      "metadata": {
        "id": "AnvlfnEjN29g"
      },
      "outputs": [],
      "source": [
        "import torch\n",
        "from torch import nn\n",
        "from torch.utils.data import Dataset, ConcatDataset, TensorDataset\n",
        "from torch.utils.data import DataLoader\n",
        "from torchvision import datasets, transforms\n",
        "from tensorflow.keras.preprocessing.image import ImageDataGenerator\n",
        "\n",
        "import random\n",
        "\n",
        "print(torch.__version__)\n",
        "\n",
        "device = 'cuda' if torch.cuda.is_available() else 'cpu'\n",
        "print(device)"
      ]
    },
    {
      "cell_type": "markdown",
      "metadata": {
        "id": "JK3nPAK95cLy"
      },
      "source": [
        "### PyTorch DataLoader"
      ]
    },
    {
      "cell_type": "code",
      "execution_count": null,
      "metadata": {
        "id": "TdhAjB_UNr7k"
      },
      "outputs": [],
      "source": [
        "random.seed(42)\n",
        "\n",
        "class CustomDataset(Dataset):\n",
        "    def __init__(self, image_category, label, dataset_dir, image_size, augment=True):\n",
        "        self.image_category = image_category\n",
        "        self.label = label\n",
        "        self.dataset_dir = dataset_dir\n",
        "        self.image_size = image_size\n",
        "        self.augment = augment\n",
        "        self.data = self.create_dataset()\n",
        "\n",
        "    def __len__(self):\n",
        "        return len(self.data)\n",
        "\n",
        "    def __getitem__(self, idx):\n",
        "        img, label = self.data[idx]\n",
        "        return img, label\n",
        "\n",
        "    def create_dataset(self):\n",
        "        dataset = []\n",
        "        for img in tqdm(self.image_category):\n",
        "            image_path = os.path.join(self.dataset_dir, img)\n",
        "            try:\n",
        "                # Read Image on BGR format\n",
        "                image = cv2.imread(image_path, cv2.IMREAD_COLOR)\n",
        "                # Convert BGR to RGB\n",
        "                image = cv2.cvtColor(image, cv2.COLOR_BGR2RGB)\n",
        "                image = cv2.resize(image, (self.image_size, self.image_size))\n",
        "\n",
        "                if self.augment and random.random() < 0.7:  # 70% chance for augmentation\n",
        "                    # Data augmentation\n",
        "                    image = self.apply_augmentation(image)\n",
        "            except:\n",
        "                continue\n",
        "\n",
        "            dataset.append([np.array(image), np.array(self.label)])\n",
        "        random.shuffle(dataset)\n",
        "        return dataset\n",
        "\n",
        "    def apply_augmentation(self, image):\n",
        "        # Define ImageDataGenerator with augmentation parameters\n",
        "        datagen = ImageDataGenerator(\n",
        "            rotation_range=15,      # Rotate images randomly by 0-45 degrees\n",
        "            width_shift_range=0.1,  # Shift images horizontally by 10%\n",
        "            height_shift_range=0.05, # Shift images vertically by 5%\n",
        "            # shear_range=0.2,        # Apply shear transformation with intensity 0.2\n",
        "            zoom_range=0.2,         # Zoom images by 20%\n",
        "        )\n",
        "\n",
        "        image = image.reshape((1,) + image.shape)\n",
        "        augmented_image = datagen.flow(image, batch_size=1).next()[0]\n",
        "\n",
        "        # Reshape back to original shape\n",
        "        augmented_image = augmented_image.reshape(image.shape[1:])\n",
        "\n",
        "        return augmented_image\n"
      ]
    },
    {
      "cell_type": "code",
      "execution_count": null,
      "metadata": {
        "id": "C4b_YqFj1ZFk"
      },
      "outputs": [],
      "source": [
        "from tqdm.auto import tqdm\n",
        "path = \"dataset/preprocessed_images/\"\n",
        "\n",
        "dataset_normal = CustomDataset(image_category = normal,\n",
        "                               label = 0,\n",
        "                               dataset_dir = path,\n",
        "                               image_size = 224)\n",
        "\n",
        "dataset_diabetes = CustomDataset(diabetes, 1, path, 224)\n",
        "dataset_glaucoma = CustomDataset(glaucoma, 2, path, 224)\n",
        "dataset_cataract = CustomDataset(cataract, 3, path, 224)\n",
        "dataset_age_related = CustomDataset(age_related, 4, path, 224)\n",
        "dataset_hypertension = CustomDataset(hypertension, 5, path, 224)\n",
        "dataset_myopia = CustomDataset(myopia, 6, path, 224)\n",
        "dataset_other = CustomDataset(other, 7, path, 224)"
      ]
    },
    {
      "cell_type": "code",
      "execution_count": null,
      "metadata": {
        "id": "7OJKE8gfC1aP"
      },
      "outputs": [],
      "source": [
        "dataset_concat = ConcatDataset([dataset_normal, dataset_diabetes, dataset_glaucoma,\n",
        "                                dataset_cataract, dataset_age_related, dataset_hypertension,\n",
        "                                dataset_myopia, dataset_other])\n",
        "\n",
        "random.seed(42)\n",
        "indices = list(range(len(dataset_concat)))\n",
        "random.shuffle(indices)\n",
        "\n",
        "# Create a new ConcatDataset with shuffled indices\n",
        "dataset = [dataset_concat[i] for i in indices]\n",
        "print(\"Combined dataset length:\", len(dataset))"
      ]
    },
    {
      "cell_type": "code",
      "execution_count": null,
      "metadata": {
        "id": "6JpRhMB22VBP"
      },
      "outputs": [],
      "source": [
        "dataset[0][0].shape"
      ]
    },
    {
      "cell_type": "code",
      "execution_count": null,
      "metadata": {
        "id": "59Ddf5Y0BmGW"
      },
      "outputs": [],
      "source": [
        "# Function to label the eye_defect\n",
        "def target(category):\n",
        "  if category == 0:\n",
        "    return \"Normal\"\n",
        "  elif category == 1:\n",
        "    return \"Diabetes\"\n",
        "  elif category == 2:\n",
        "    return \"Glaucoma\"\n",
        "  elif category == 3:\n",
        "    return \"Cataract\"\n",
        "  elif category == 4:\n",
        "    return \"Age_related\"\n",
        "  elif category == 5:\n",
        "    return \"Hypertension\"\n",
        "  elif category == 6:\n",
        "    return \"Myopia\"\n",
        "  else:\n",
        "    return \"Other\""
      ]
    },
    {
      "cell_type": "code",
      "execution_count": null,
      "metadata": {
        "id": "OUpht93SSWTs"
      },
      "outputs": [],
      "source": [
        "plt.figure(figsize=(12, 4))\n",
        "rows, cols = 2, 8\n",
        "\n",
        "for i in range(1, int(rows)*int(cols) + 1):\n",
        "    sample = random.choice(range(len(dataset)))\n",
        "    image = dataset[sample][0]\n",
        "    category = dataset[sample][1]\n",
        "\n",
        "    # Normalize the image data if necessary\n",
        "    if image.max() > 1:\n",
        "        image = image / 255.0\n",
        "\n",
        "    label = target(category)\n",
        "\n",
        "    plt.subplot(int(rows), int(cols), i)\n",
        "    plt.imshow(image)\n",
        "    plt.title(label)\n",
        "    plt.axis(False)\n",
        "\n",
        "plt.tight_layout()\n",
        "plt.show()"
      ]
    },
    {
      "cell_type": "code",
      "execution_count": null,
      "metadata": {
        "id": "JmXGzwrGX9Vq"
      },
      "outputs": [],
      "source": [
        "dataset[0][0], dataset[0][0].shape"
      ]
    },
    {
      "cell_type": "markdown",
      "metadata": {
        "id": "9qJ6qdZXC49q"
      },
      "source": [
        "## Train and Test Split"
      ]
    },
    {
      "cell_type": "code",
      "execution_count": null,
      "metadata": {
        "id": "VUJc7sHtDHlj"
      },
      "outputs": [],
      "source": [
        "X = np.array([i[0] for i in dataset]).reshape(-1, 224, 224, 3)\n",
        "y = np.array([i[1] for i in dataset])"
      ]
    },
    {
      "cell_type": "code",
      "execution_count": null,
      "metadata": {
        "id": "8bb_naGGC_5l"
      },
      "outputs": [],
      "source": [
        "# Conversion of image arrays and labels to tensors\n",
        "X = torch.from_numpy(X).type(torch.float)\n",
        "y = torch.from_numpy(y).type(torch.long)\n",
        "\n",
        "X[0], y[:10]"
      ]
    },
    {
      "cell_type": "code",
      "execution_count": null,
      "metadata": {
        "id": "TFu4tby6C4hF"
      },
      "outputs": [],
      "source": [
        "from sklearn.model_selection import train_test_split\n",
        "\n",
        "X_train, X_test, y_train, y_test = train_test_split(X,\n",
        "                                                    y,\n",
        "                                                    test_size = 0.2,\n",
        "                                                    shuffle = True,\n",
        "                                                    random_state = 42)\n",
        "\n",
        "len(X_train), len(X_test), y_train[:10]"
      ]
    },
    {
      "cell_type": "code",
      "execution_count": null,
      "metadata": {
        "id": "rboxdlBGC7Rc"
      },
      "outputs": [],
      "source": [
        "X_train.shape"
      ]
    },
    {
      "cell_type": "code",
      "execution_count": null,
      "metadata": {
        "id": "Xf7gbtNaDT5O"
      },
      "outputs": [],
      "source": [
        "# Permute the color channel index to front\n",
        "X_train, X_test = X_train.permute(0, 3, 1, 2), X_test.permute(0, 3, 1, 2)"
      ]
    },
    {
      "cell_type": "code",
      "execution_count": null,
      "metadata": {
        "id": "c3Ja0RWTDWDQ"
      },
      "outputs": [],
      "source": [
        "# Turn datasets into batches\n",
        "torch.manual_seed(42)\n",
        "BATCH_SIZE = 64\n",
        "\n",
        "train_dataset = TensorDataset(X_train, y_train)\n",
        "# print(train_dataset[0][1])\n",
        "train_dataloader = DataLoader(dataset = train_dataset,\n",
        "                              batch_size = BATCH_SIZE,\n",
        "                              shuffle = True)\n",
        "\n",
        "test_dataset = TensorDataset(X_test, y_test)\n",
        "test_dataloader = DataLoader(dataset = test_dataset,\n",
        "                             batch_size = BATCH_SIZE,\n",
        "                             shuffle = False)\n",
        "\n",
        "len(train_dataloader), len(test_dataloader)"
      ]
    },
    {
      "cell_type": "code",
      "execution_count": null,
      "metadata": {
        "id": "95wMbBu9DaMq"
      },
      "outputs": [],
      "source": [
        "# Checking shape of train_images and train_labels dataloader\n",
        "train_features_batch, train_labels_batch = next(iter(train_dataloader))\n",
        "train_features_batch.shape, train_labels_batch.shape"
      ]
    },
    {
      "cell_type": "markdown",
      "metadata": {
        "id": "e6odZZ7jDdXb"
      },
      "source": [
        "## VGG BaseModel with added `Conv2d` Layers"
      ]
    },
    {
      "cell_type": "code",
      "execution_count": null,
      "metadata": {
        "id": "QCyG8eZ9DcSZ"
      },
      "outputs": [],
      "source": [
        "class ImprovedVGGModel(nn.Module):\n",
        "  def __init__(self, input_shape, hidden_units, output_shape):\n",
        "    super(ImprovedVGGModel, self).__init__()\n",
        "    self.conv_block_1 = nn.Sequential(\n",
        "        nn.Conv2d(input_shape, hidden_units, kernel_size=3, stride=1, padding=1),\n",
        "        nn.ReLU(),\n",
        "        nn.Conv2d(hidden_units, hidden_units, kernel_size=3, stride=1, padding=1),\n",
        "        nn.ReLU(),\n",
        "        nn.MaxPool2d(2),\n",
        "        nn.BatchNorm2d(hidden_units)\n",
        "    )\n",
        "    self.conv_block_2 = nn.Sequential(\n",
        "        nn.Conv2d(hidden_units, 4 * hidden_units, kernel_size=3, stride=1, padding=1),\n",
        "        nn.ReLU(),\n",
        "        nn.Dropout(0.5),\n",
        "        nn.Conv2d(4 * hidden_units, 4 * hidden_units, kernel_size=3, stride=1, padding=1),\n",
        "        nn.ReLU(),\n",
        "        nn.MaxPool2d(2),\n",
        "        nn.BatchNorm2d(4 * hidden_units)\n",
        "    )\n",
        "    self.conv_block_3 = nn.Sequential(\n",
        "        nn.Conv2d(4 * hidden_units, 4 * hidden_units, kernel_size=3, stride=1, padding=1),\n",
        "        nn.ReLU(),\n",
        "        nn.Conv2d(4 * hidden_units, 4 * hidden_units, kernel_size=3, stride=1, padding=1),\n",
        "        nn.ReLU(),\n",
        "        nn.MaxPool2d(2),\n",
        "        nn.BatchNorm2d(4 * hidden_units)\n",
        "    )\n",
        "    self.conv_block_4 = nn.Sequential(\n",
        "        nn.Conv2d(4 * hidden_units, 4 * hidden_units, kernel_size=3, stride=1, padding=1),\n",
        "        nn.ReLU(),\n",
        "        nn.Dropout(0.5),\n",
        "        nn.Conv2d(4 * hidden_units, output_shape, kernel_size=3, stride=1, padding=1),\n",
        "        nn.ReLU(),\n",
        "        nn.MaxPool2d(2),\n",
        "        nn.BatchNorm2d(output_shape)\n",
        "    )\n",
        "    self.classifier = nn.Sequential(\n",
        "        nn.Flatten(),\n",
        "        nn.Linear(14 * 14* output_shape, 256),\n",
        "        nn.ReLU(),\n",
        "        nn.Dropout(0.5),\n",
        "        nn.Linear(256, output_shape)\n",
        "    )\n",
        "\n",
        "  def forward(self, x):\n",
        "    x = self.conv_block_1(x)\n",
        "    x = self.conv_block_2(x)\n",
        "    x = self.conv_block_3(x)\n",
        "    x = self.conv_block_4(x)\n",
        "    x = self.classifier(x)\n",
        "    return x"
      ]
    },
    {
      "cell_type": "markdown",
      "metadata": {
        "id": "1fZZUX2niPYv"
      },
      "source": [
        "## `ResNet50` Replica Architecture"
      ]
    },
    {
      "cell_type": "code",
      "execution_count": null,
      "metadata": {
        "id": "WStaTZ8RR7R4"
      },
      "outputs": [],
      "source": [
        "class ResidualBlock(nn.Module):\n",
        "    def __init__(self, in_channels, out_channels, stride=1, downsample=None):\n",
        "        super(ResidualBlock, self).__init__()\n",
        "        self.conv1 = nn.Conv2d(in_channels, out_channels, kernel_size=1, stride=stride, bias=False)\n",
        "        self.bn1 = nn.BatchNorm2d(out_channels)\n",
        "        self.conv2 = nn.Conv2d(out_channels, out_channels, kernel_size=3, stride=1, padding=1, bias=False)\n",
        "        self.bn2 = nn.BatchNorm2d(out_channels)\n",
        "        self.conv3 = nn.Conv2d(out_channels, out_channels * 4, kernel_size=1, stride=1, bias=False)\n",
        "        self.bn3 = nn.BatchNorm2d(out_channels * 4)\n",
        "        self.relu = nn.ReLU(inplace=True)\n",
        "        self.downsample = downsample\n",
        "\n",
        "    def forward(self, x):\n",
        "        identity = x\n",
        "\n",
        "        out = self.conv1(x)\n",
        "        out = self.bn1(out)\n",
        "        out = self.relu(out)\n",
        "\n",
        "        out = self.conv2(out)\n",
        "        out = self.bn2(out)\n",
        "        out = self.relu(out)\n",
        "\n",
        "        out = self.conv3(out)\n",
        "        out = self.bn3(out)\n",
        "\n",
        "        if self.downsample is not None:\n",
        "            identity = self.downsample(x)\n",
        "\n",
        "        out += identity\n",
        "        out = self.relu(out)\n",
        "        return out\n",
        "\n",
        "class ResNet50(nn.Module):\n",
        "    def __init__(self, num_classes=1000):\n",
        "        super(ResNet50, self).__init__()\n",
        "        self.in_channels = 64\n",
        "        self.conv1 = nn.Conv2d(3, 64, kernel_size=7, stride=2, padding=3, bias=False)\n",
        "        self.bn1 = nn.BatchNorm2d(64)\n",
        "        self.relu = nn.ReLU(inplace=True)\n",
        "        self.maxpool = nn.MaxPool2d(kernel_size=3, stride=2, padding=1)\n",
        "        self.layer1 = self.make_layer(ResidualBlock, 64, 3)\n",
        "        self.layer2 = self.make_layer(ResidualBlock, 256, 4, stride=2)\n",
        "        self.layer3 = self.make_layer(ResidualBlock, 256, 6, stride=2)\n",
        "        self.layer4 = self.make_layer(ResidualBlock, 1024, 3, stride=2)\n",
        "        self.avgpool = nn.AdaptiveAvgPool2d((1, 1))\n",
        "        self.fc = nn.Linear(1024 * 4, num_classes)\n",
        "\n",
        "    def make_layer(self, block, channels, blocks, stride=1):\n",
        "        downsample = None\n",
        "        if stride != 1 or self.in_channels != channels * 4:\n",
        "            downsample = nn.Sequential(\n",
        "                nn.Conv2d(self.in_channels, channels * 4, kernel_size=1, stride=stride, bias=False),\n",
        "                nn.BatchNorm2d(channels * 4),\n",
        "            )\n",
        "        layers = []\n",
        "        layers.append(block(self.in_channels, channels, stride, downsample))\n",
        "        self.in_channels = channels * 4\n",
        "        for _ in range(1, blocks):\n",
        "            layers.append(block(self.in_channels, channels))\n",
        "        return nn.Sequential(*layers)\n",
        "\n",
        "    def forward(self, x):\n",
        "        x = self.conv1(x)\n",
        "        x = self.bn1(x)\n",
        "        x = self.relu(x)\n",
        "        x = self.maxpool(x)\n",
        "\n",
        "        x = self.layer1(x)\n",
        "        x = self.layer2(x)\n",
        "        x = self.layer3(x)\n",
        "        x = self.layer4(x)\n",
        "\n",
        "        x = self.avgpool(x)\n",
        "        x = x.view(x.size(0), -1)\n",
        "        x = self.fc(x)\n",
        "        return x\n"
      ]
    },
    {
      "cell_type": "code",
      "execution_count": null,
      "metadata": {
        "id": "R662QmsZDf1o"
      },
      "outputs": [],
      "source": [
        "# model = ImprovedVGGModel(3, 64, 8).to(device)   # (3, 10, 8) -> (Color_channel, hidden_units, output_shape)\n",
        "# # model = ResNet50(8)\n",
        "\n",
        "# model, next(model.parameters()).device"
      ]
    },
    {
      "cell_type": "markdown",
      "source": [
        "## Using Transfer Learning on pre built `ResNet50` model"
      ],
      "metadata": {
        "id": "y2z5dgpDTEDW"
      }
    },
    {
      "cell_type": "code",
      "execution_count": null,
      "metadata": {
        "id": "wPneCErOnimD"
      },
      "outputs": [],
      "source": [
        "import torchvision.models as models\n",
        "\n",
        "model = models.resnet50(pretrained = True)\n",
        "\n",
        "# Edit num class and output\n",
        "num_classes = 8\n",
        "model.fc = nn.Linear(model.fc.in_features, num_classes)\n",
        "\n",
        "model, model.to(device), next(model.parameters()).device"
      ]
    },
    {
      "cell_type": "markdown",
      "metadata": {
        "id": "mv_8fnTaDmRz"
      },
      "source": [
        "## Train and Test Dataloaders"
      ]
    },
    {
      "cell_type": "code",
      "execution_count": null,
      "metadata": {
        "id": "xaX_lMrhDibR"
      },
      "outputs": [],
      "source": [
        "!pip install torchmetrics"
      ]
    },
    {
      "cell_type": "code",
      "execution_count": null,
      "metadata": {
        "id": "UTJpQGE2Dodf"
      },
      "outputs": [],
      "source": [
        "# Import Accuracy\n",
        "from torchmetrics import Accuracy\n",
        "\n",
        "torchmetrics_accuracy = Accuracy(task = \"multiclass\",\n",
        "                                 num_classes = 8).to(device)"
      ]
    },
    {
      "cell_type": "code",
      "execution_count": null,
      "metadata": {
        "id": "TF4w5SD6DqXt"
      },
      "outputs": [],
      "source": [
        "# Setting up loss_fn and optimizer\n",
        "loss_fn = nn.CrossEntropyLoss()\n",
        "optimizer = torch.optim.Adam(params = model.parameters(), lr = 0.001)"
      ]
    },
    {
      "cell_type": "code",
      "execution_count": null,
      "metadata": {
        "id": "-K7Zi59LDu0-"
      },
      "outputs": [],
      "source": [
        "# Train and Test function\n",
        "def train_step(model, data_loader, loss_fn, optimizer, accuracy, device):\n",
        "  train_loss, train_acc = 0, 0\n",
        "\n",
        "  model.to(device)\n",
        "  train_losses = []\n",
        "  train_accuracies = []\n",
        "  for batch, (X, y) in enumerate(data_loader):\n",
        "    X, y = X.to(device), y.to(device)\n",
        "    y_pred = model(X)\n",
        "    loss = loss_fn(y_pred, y)\n",
        "    train_loss += loss\n",
        "    train_acc += torchmetrics_accuracy(y,\n",
        "                                       y_pred.argmax(dim = 1)) * 100\n",
        "    optimizer.zero_grad()\n",
        "    loss.backward()\n",
        "    optimizer.step()\n",
        "\n",
        "  train_loss /= len(data_loader)\n",
        "  train_acc /= len(data_loader)\n",
        "\n",
        "  train_losses.append(train_loss.item())\n",
        "  train_accuracies.append(train_acc.item())\n",
        "  print(f'Train loss: {train_loss:.4f} ---- Train acc: {train_acc:.2f}%')\n",
        "  return train_losses, train_accuracies\n",
        "\n",
        "def test_step(model, data_loader, loss_fn, optimizer, accuracy, device):\n",
        "  test_loss, test_acc = 0, 0\n",
        "  model.to(device)\n",
        "  model.eval()\n",
        "  test_losses = []\n",
        "  test_accuracies = []\n",
        "\n",
        "  with torch.inference_mode():\n",
        "    for X, y in data_loader:\n",
        "      X, y = X.to(device), y.to(device)\n",
        "      test_pred = model(X)\n",
        "      loss = loss_fn(test_pred, y)\n",
        "      test_loss += loss\n",
        "      test_acc += torchmetrics_accuracy(y,\n",
        "                                        test_pred.argmax(dim = 1)) * 100\n",
        "    test_loss /= len(data_loader)\n",
        "    test_acc /= len(data_loader)\n",
        "    test_losses.append(test_loss.item())\n",
        "    test_accuracies.append(test_acc.item())\n",
        "    print(f'Test loss: {test_loss:.4f} ---- Test acc: {test_acc:.2f}%')\n",
        "  return test_losses, test_accuracies"
      ]
    },
    {
      "cell_type": "code",
      "execution_count": null,
      "metadata": {
        "id": "ka6aDz3kDw4w"
      },
      "outputs": [],
      "source": [
        "torch.manual_seed(42)\n",
        "\n",
        "epochs = 10      # 35 for ResNet50\n",
        "train_losses_history = []\n",
        "train_accuracies_history = []\n",
        "test_losses_history = []\n",
        "test_accuracies_history = []\n",
        "\n",
        "for epoch in tqdm(range(epochs)):\n",
        "  print(f'Epoch: {epoch}')\n",
        "  train_losses, train_accuracies = train_step(model, train_dataloader, loss_fn, optimizer,\n",
        "                                              torchmetrics_accuracy, device)\n",
        "  test_losses, test_accuracies = test_step(model, test_dataloader, loss_fn, optimizer,\n",
        "                                           torchmetrics_accuracy, device)\n",
        "  # Calculate avg. loss and accuracy\n",
        "  avg_train_loss = sum(train_losses) / len(train_losses)\n",
        "  avg_train_accuracy = sum(train_accuracies) / len(train_accuracies)\n",
        "  avg_test_loss = sum(test_losses) / len(test_losses)\n",
        "  avg_test_accuracy = sum(test_accuracies) / len(test_accuracies)\n",
        "\n",
        "  train_losses_history.append(avg_train_loss)\n",
        "  train_accuracies_history.append(avg_train_accuracy)\n",
        "  test_losses_history.append(avg_test_loss)\n",
        "  test_accuracies_history.append(avg_test_accuracy)"
      ]
    },
    {
      "cell_type": "markdown",
      "metadata": {
        "id": "kyNfAZQkPf-f"
      },
      "source": [
        "## Plot loss curves and accuracy curves"
      ]
    },
    {
      "cell_type": "code",
      "execution_count": null,
      "metadata": {
        "id": "_6JwitCPF3B0"
      },
      "outputs": [],
      "source": [
        "# Plot loss curves\n",
        "epoch = np.arange(0, len(train_losses_history))\n",
        "\n",
        "plt.figure(figsize=(8, 3))\n",
        "plt.plot(epoch, train_losses_history, label=\"Train Loss\")\n",
        "plt.plot(epoch, test_losses_history, label=\"Test Loss\")\n",
        "plt.title(\"Train/Test loss curves\")\n",
        "plt.ylabel(\"Loss\")\n",
        "plt.xlabel(\"Epoch\")\n",
        "plt.legend();"
      ]
    },
    {
      "cell_type": "code",
      "execution_count": null,
      "metadata": {
        "id": "6Qwwj1-ZPg94"
      },
      "outputs": [],
      "source": [
        "# Plot accuracy curves\n",
        "plt.figure(figsize=(8, 3))\n",
        "plt.plot(epoch, train_accuracies_history, label=\"Train Accuracy\")\n",
        "plt.plot(epoch, test_accuracies_history, label=\"Test Accuracy\")\n",
        "plt.title(\"Train/Test Accuracy curves\")\n",
        "plt.ylabel(\"Accuracy\")\n",
        "plt.xlabel(\"Epoch\")\n",
        "plt.legend();"
      ]
    },
    {
      "cell_type": "markdown",
      "metadata": {
        "id": "adTqFYJcPoE-"
      },
      "source": [
        "## Make Predictions"
      ]
    },
    {
      "cell_type": "code",
      "execution_count": null,
      "metadata": {
        "id": "bz2EHQsSPj8-"
      },
      "outputs": [],
      "source": [
        "def make_predictions(model, data, device):\n",
        "  pred_probs = []\n",
        "  model.to(device)\n",
        "  model.eval()\n",
        "  with torch.inference_mode():\n",
        "    for sample in data:\n",
        "      sample = torch.unsqueeze(sample, dim = 0).to(device)\n",
        "      pred_logit = model(sample)\n",
        "      pred_prob = torch.softmax(pred_logit.squeeze(), dim = 0)\n",
        "      pred_probs.append(pred_prob.cpu())\n",
        "\n",
        "  return torch.stack(pred_probs)"
      ]
    },
    {
      "cell_type": "code",
      "execution_count": null,
      "metadata": {
        "id": "b5NUkQvCPnmL"
      },
      "outputs": [],
      "source": [
        "import random\n",
        "# random.seed(42)\n",
        "\n",
        "test_samples = []\n",
        "test_labels = []\n",
        "\n",
        "for sample, label in random.sample(list(test_dataset), k = 20):\n",
        "  test_samples.append(sample)\n",
        "  test_labels.append(label)"
      ]
    },
    {
      "cell_type": "code",
      "execution_count": null,
      "metadata": {
        "id": "T9fw77rGPrGH"
      },
      "outputs": [],
      "source": [
        "test_samples[0].shape"
      ]
    },
    {
      "cell_type": "code",
      "execution_count": null,
      "metadata": {
        "id": "oK3Q0ajzPskS"
      },
      "outputs": [],
      "source": [
        "# Make Predictions\n",
        "pred_probs = make_predictions(model,\n",
        "                              test_samples,\n",
        "                              device)\n",
        "\n",
        "# Convert prediction proabbilities to labels\n",
        "pred_classes = pred_probs.argmax(dim = 1)\n",
        "print(pred_classes, test_labels, sep = '\\n')"
      ]
    },
    {
      "cell_type": "code",
      "execution_count": null,
      "metadata": {
        "id": "vU2O8E_gPtxl"
      },
      "outputs": [],
      "source": [
        "# Plot predictions\n",
        "plt.figure(figsize=(16, 12))\n",
        "nrows, ncols = 5, 5\n",
        "\n",
        "for i, sample in enumerate(test_samples):\n",
        "  class_name = np.array(['Normal', 'Diabetes', 'Glaucoma', 'Cataract', 'Age-Related',\n",
        "                         'Hypertension', 'Myopia', 'Other'])\n",
        "  plt.subplot(nrows, ncols, i + 1)\n",
        "  # Convert PyTorch tensor to NumPy array\n",
        "  normalized_sample = sample.permute(1, 2, 0).numpy()\n",
        "  normalized_sample = normalized_sample / 255.0  # Normalize pixel values to [0, 1]\n",
        "  plt.imshow(normalized_sample)\n",
        "  # print(normalized_sample.shape)\n",
        "  pred_label = class_name[pred_classes[i]]\n",
        "  truth_label = class_name[test_labels[i]]\n",
        "  title_text = f\"Pred: {pred_label} | Truth: {truth_label}\"\n",
        "\n",
        "  # Check equality between pred and truth and change color of title\n",
        "  if pred_label == truth_label:\n",
        "      plt.title(title_text, fontsize=9, c=\"g\")\n",
        "  else:\n",
        "      plt.title(title_text, fontsize=9, c=\"r\")\n",
        "\n",
        "  plt.axis(False)\n",
        "plt.show()\n"
      ]
    },
    {
      "cell_type": "markdown",
      "metadata": {
        "id": "ZTh_mgUhQNH8"
      },
      "source": [
        "## Plot Confusion Matrix"
      ]
    },
    {
      "cell_type": "code",
      "execution_count": null,
      "metadata": {
        "id": "vS5ekCI_QJQe"
      },
      "outputs": [],
      "source": [
        "# Make prediciton with trained model\n",
        "y_preds = []\n",
        "model.eval()\n",
        "with torch.inference_mode():\n",
        "  for X, y in tqdm(test_dataloader,\n",
        "                   desc = \"Making predictions...\\t\"):\n",
        "    X, y = X.to(device), y.to(device)\n",
        "    y_logits = model(X)\n",
        "    y_pred = torch.softmax(y_logits.squeeze(), dim = 0).argmax(dim = 1 )\n",
        "    y_preds.append(y_pred.cpu())\n",
        "\n",
        "# Concatenate list of predictions into a tensor\n",
        "y_pred_tensor = torch.cat(y_preds)\n",
        "y_pred_tensor[:10], len(y_pred_tensor)"
      ]
    },
    {
      "cell_type": "code",
      "execution_count": null,
      "metadata": {
        "id": "C70xHpFwQPLN"
      },
      "outputs": [],
      "source": [
        "from torchmetrics import ConfusionMatrix\n",
        "from mlxtend.plotting import plot_confusion_matrix\n",
        "\n",
        "confmat = ConfusionMatrix(num_classes = len(class_name), task = 'multiclass')\n",
        "# print(y_pred_tensor, test_data.targets)\n",
        "confmat_tensor = confmat(preds = y_pred_tensor,\n",
        "                         target = y_test)\n",
        "\n",
        "# Plot the confusion matrix\n",
        "fig, ax = plot_confusion_matrix(\n",
        "    conf_mat = confmat_tensor.numpy(),\n",
        "    class_names = class_name,\n",
        "    figsize = (12, 8)\n",
        ");"
      ]
    },
    {
      "cell_type": "markdown",
      "metadata": {
        "id": "ewQfIlCZQic4"
      },
      "source": [
        "## Saving and Loading Model"
      ]
    },
    {
      "cell_type": "code",
      "execution_count": null,
      "metadata": {
        "id": "EXA0yb7UQVIU"
      },
      "outputs": [],
      "source": [
        "from pathlib import Path\n",
        "\n",
        "MODEL_PATH = Path(\"models\")\n",
        "MODEL_PATH.mkdir(parents=True,\n",
        "                 exist_ok=True)\n",
        "\n",
        "# Create model save path\n",
        "MODEL_NAME = \"MultipleEyeDiseaseDetectModel.pth\"\n",
        "MODEL_SAVE_PATH = MODEL_PATH / MODEL_NAME\n",
        "\n",
        "# Save the model state dict\n",
        "print(f\"Saving model to: {MODEL_SAVE_PATH}\")\n",
        "torch.save(obj=model.state_dict(),\n",
        "           f=MODEL_SAVE_PATH)"
      ]
    },
    {
      "cell_type": "code",
      "execution_count": null,
      "metadata": {
        "id": "fBbTdEVQQk__"
      },
      "outputs": [],
      "source": [
        "loaded_model = ImprovedVGGModel(3, 64, 8)\n",
        "# loaded_model = ResNet50(7)\n",
        "\n",
        "loaded_model.load_state_dict(torch.load(f=MODEL_SAVE_PATH))\n",
        "\n",
        "print(f\"Loaded model:\\n{loaded_model}\")\n",
        "print(f\"Model on device:\\n{next(loaded_model.parameters()).device}\")\n",
        "# loaded_model = loaded_model.to('cpu')     # For model to load in cpu and check inference"
      ]
    },
    {
      "cell_type": "code",
      "execution_count": null,
      "metadata": {
        "id": "hqcH-yxvQr1k"
      },
      "outputs": [],
      "source": [
        "loaded_pred_probs = make_predictions(loaded_model,\n",
        "                                     test_samples,\n",
        "                                     device)\n",
        "\n",
        "loaded_pred_classes = loaded_pred_probs.argmax(dim = 1)"
      ]
    },
    {
      "cell_type": "code",
      "execution_count": null,
      "metadata": {
        "id": "yxxXTZzGQ4Ji"
      },
      "outputs": [],
      "source": [
        "plt.figure(figsize=(16, 12))\n",
        "nrows, ncols = 5, 5\n",
        "\n",
        "for i, sample in enumerate(test_samples):\n",
        "  class_name = np.array(['Normal', 'Diabetes', 'Glaucoma', 'Cataract', 'Age-Related',\n",
        "                         'Hypertension', 'Myopia', 'Other'])\n",
        "  plt.subplot(nrows, ncols, i + 1)\n",
        "  normalized_sample = sample.permute(1, 2, 0).numpy()\n",
        "  normalized_sample = normalized_sample / 255.0\n",
        "  plt.imshow(normalized_sample)\n",
        "\n",
        "  pred_label = class_name[loaded_pred_classes[i]]\n",
        "  truth_label = class_name[test_labels[i]]\n",
        "  title_text = f\"Pred: {pred_label} | Truth: {truth_label}\"\n",
        "\n",
        "  if pred_label == truth_label:\n",
        "      plt.title(title_text, fontsize=9, c=\"g\")\n",
        "  else:\n",
        "      plt.title(title_text, fontsize=9, c=\"r\")\n",
        "\n",
        "  plt.axis(False);"
      ]
    }
  ],
  "metadata": {
    "accelerator": "GPU",
    "colab": {
      "gpuType": "T4",
      "provenance": [],
      "include_colab_link": true
    },
    "kernelspec": {
      "display_name": "Python 3",
      "name": "python3"
    },
    "language_info": {
      "name": "python"
    },
    "widgets": {
      "application/vnd.jupyter.widget-state+json": {
        "1611a90cf2b9494d85312c34baa72257": {
          "model_module": "@jupyter-widgets/controls",
          "model_name": "HBoxModel",
          "model_module_version": "1.5.0",
          "state": {
            "_dom_classes": [],
            "_model_module": "@jupyter-widgets/controls",
            "_model_module_version": "1.5.0",
            "_model_name": "HBoxModel",
            "_view_count": null,
            "_view_module": "@jupyter-widgets/controls",
            "_view_module_version": "1.5.0",
            "_view_name": "HBoxView",
            "box_style": "",
            "children": [
              "IPY_MODEL_8fd9aab06b5a4d9ea1b7be871881aa88",
              "IPY_MODEL_a89c5c4c57f04e0695dabf70f0d1d2d5",
              "IPY_MODEL_cbbec3d3b91e423e834d88ace1d02975"
            ],
            "layout": "IPY_MODEL_0c13302c0d004e4eb4a7d5ae9c3469c2"
          }
        },
        "8fd9aab06b5a4d9ea1b7be871881aa88": {
          "model_module": "@jupyter-widgets/controls",
          "model_name": "HTMLModel",
          "model_module_version": "1.5.0",
          "state": {
            "_dom_classes": [],
            "_model_module": "@jupyter-widgets/controls",
            "_model_module_version": "1.5.0",
            "_model_name": "HTMLModel",
            "_view_count": null,
            "_view_module": "@jupyter-widgets/controls",
            "_view_module_version": "1.5.0",
            "_view_name": "HTMLView",
            "description": "",
            "description_tooltip": null,
            "layout": "IPY_MODEL_9f6498837e1f48cf8d29ad7c6a8dd758",
            "placeholder": "​",
            "style": "IPY_MODEL_cf9d26e51a9e4c3e88d722450c0524c6",
            "value": "Extracting: 100%"
          }
        },
        "a89c5c4c57f04e0695dabf70f0d1d2d5": {
          "model_module": "@jupyter-widgets/controls",
          "model_name": "FloatProgressModel",
          "model_module_version": "1.5.0",
          "state": {
            "_dom_classes": [],
            "_model_module": "@jupyter-widgets/controls",
            "_model_module_version": "1.5.0",
            "_model_name": "FloatProgressModel",
            "_view_count": null,
            "_view_module": "@jupyter-widgets/controls",
            "_view_module_version": "1.5.0",
            "_view_name": "ProgressView",
            "bar_style": "success",
            "description": "",
            "description_tooltip": null,
            "layout": "IPY_MODEL_4ad7e9ae229f48088efa03ee75cf6dda",
            "max": 14394,
            "min": 0,
            "orientation": "horizontal",
            "style": "IPY_MODEL_2b79e2b746ed47159ffde664c2ac7126",
            "value": 14394
          }
        },
        "cbbec3d3b91e423e834d88ace1d02975": {
          "model_module": "@jupyter-widgets/controls",
          "model_name": "HTMLModel",
          "model_module_version": "1.5.0",
          "state": {
            "_dom_classes": [],
            "_model_module": "@jupyter-widgets/controls",
            "_model_module_version": "1.5.0",
            "_model_name": "HTMLModel",
            "_view_count": null,
            "_view_module": "@jupyter-widgets/controls",
            "_view_module_version": "1.5.0",
            "_view_name": "HTMLView",
            "description": "",
            "description_tooltip": null,
            "layout": "IPY_MODEL_0687dba7c2884daa8266037f37b1ba3f",
            "placeholder": "​",
            "style": "IPY_MODEL_a3a55a102d5c439ead4074f3176db637",
            "value": " 14394/14394 [00:19&lt;00:00, 366.05it/s]"
          }
        },
        "0c13302c0d004e4eb4a7d5ae9c3469c2": {
          "model_module": "@jupyter-widgets/base",
          "model_name": "LayoutModel",
          "model_module_version": "1.2.0",
          "state": {
            "_model_module": "@jupyter-widgets/base",
            "_model_module_version": "1.2.0",
            "_model_name": "LayoutModel",
            "_view_count": null,
            "_view_module": "@jupyter-widgets/base",
            "_view_module_version": "1.2.0",
            "_view_name": "LayoutView",
            "align_content": null,
            "align_items": null,
            "align_self": null,
            "border": null,
            "bottom": null,
            "display": null,
            "flex": null,
            "flex_flow": null,
            "grid_area": null,
            "grid_auto_columns": null,
            "grid_auto_flow": null,
            "grid_auto_rows": null,
            "grid_column": null,
            "grid_gap": null,
            "grid_row": null,
            "grid_template_areas": null,
            "grid_template_columns": null,
            "grid_template_rows": null,
            "height": null,
            "justify_content": null,
            "justify_items": null,
            "left": null,
            "margin": null,
            "max_height": null,
            "max_width": null,
            "min_height": null,
            "min_width": null,
            "object_fit": null,
            "object_position": null,
            "order": null,
            "overflow": null,
            "overflow_x": null,
            "overflow_y": null,
            "padding": null,
            "right": null,
            "top": null,
            "visibility": null,
            "width": null
          }
        },
        "9f6498837e1f48cf8d29ad7c6a8dd758": {
          "model_module": "@jupyter-widgets/base",
          "model_name": "LayoutModel",
          "model_module_version": "1.2.0",
          "state": {
            "_model_module": "@jupyter-widgets/base",
            "_model_module_version": "1.2.0",
            "_model_name": "LayoutModel",
            "_view_count": null,
            "_view_module": "@jupyter-widgets/base",
            "_view_module_version": "1.2.0",
            "_view_name": "LayoutView",
            "align_content": null,
            "align_items": null,
            "align_self": null,
            "border": null,
            "bottom": null,
            "display": null,
            "flex": null,
            "flex_flow": null,
            "grid_area": null,
            "grid_auto_columns": null,
            "grid_auto_flow": null,
            "grid_auto_rows": null,
            "grid_column": null,
            "grid_gap": null,
            "grid_row": null,
            "grid_template_areas": null,
            "grid_template_columns": null,
            "grid_template_rows": null,
            "height": null,
            "justify_content": null,
            "justify_items": null,
            "left": null,
            "margin": null,
            "max_height": null,
            "max_width": null,
            "min_height": null,
            "min_width": null,
            "object_fit": null,
            "object_position": null,
            "order": null,
            "overflow": null,
            "overflow_x": null,
            "overflow_y": null,
            "padding": null,
            "right": null,
            "top": null,
            "visibility": null,
            "width": null
          }
        },
        "cf9d26e51a9e4c3e88d722450c0524c6": {
          "model_module": "@jupyter-widgets/controls",
          "model_name": "DescriptionStyleModel",
          "model_module_version": "1.5.0",
          "state": {
            "_model_module": "@jupyter-widgets/controls",
            "_model_module_version": "1.5.0",
            "_model_name": "DescriptionStyleModel",
            "_view_count": null,
            "_view_module": "@jupyter-widgets/base",
            "_view_module_version": "1.2.0",
            "_view_name": "StyleView",
            "description_width": ""
          }
        },
        "4ad7e9ae229f48088efa03ee75cf6dda": {
          "model_module": "@jupyter-widgets/base",
          "model_name": "LayoutModel",
          "model_module_version": "1.2.0",
          "state": {
            "_model_module": "@jupyter-widgets/base",
            "_model_module_version": "1.2.0",
            "_model_name": "LayoutModel",
            "_view_count": null,
            "_view_module": "@jupyter-widgets/base",
            "_view_module_version": "1.2.0",
            "_view_name": "LayoutView",
            "align_content": null,
            "align_items": null,
            "align_self": null,
            "border": null,
            "bottom": null,
            "display": null,
            "flex": null,
            "flex_flow": null,
            "grid_area": null,
            "grid_auto_columns": null,
            "grid_auto_flow": null,
            "grid_auto_rows": null,
            "grid_column": null,
            "grid_gap": null,
            "grid_row": null,
            "grid_template_areas": null,
            "grid_template_columns": null,
            "grid_template_rows": null,
            "height": null,
            "justify_content": null,
            "justify_items": null,
            "left": null,
            "margin": null,
            "max_height": null,
            "max_width": null,
            "min_height": null,
            "min_width": null,
            "object_fit": null,
            "object_position": null,
            "order": null,
            "overflow": null,
            "overflow_x": null,
            "overflow_y": null,
            "padding": null,
            "right": null,
            "top": null,
            "visibility": null,
            "width": null
          }
        },
        "2b79e2b746ed47159ffde664c2ac7126": {
          "model_module": "@jupyter-widgets/controls",
          "model_name": "ProgressStyleModel",
          "model_module_version": "1.5.0",
          "state": {
            "_model_module": "@jupyter-widgets/controls",
            "_model_module_version": "1.5.0",
            "_model_name": "ProgressStyleModel",
            "_view_count": null,
            "_view_module": "@jupyter-widgets/base",
            "_view_module_version": "1.2.0",
            "_view_name": "StyleView",
            "bar_color": null,
            "description_width": ""
          }
        },
        "0687dba7c2884daa8266037f37b1ba3f": {
          "model_module": "@jupyter-widgets/base",
          "model_name": "LayoutModel",
          "model_module_version": "1.2.0",
          "state": {
            "_model_module": "@jupyter-widgets/base",
            "_model_module_version": "1.2.0",
            "_model_name": "LayoutModel",
            "_view_count": null,
            "_view_module": "@jupyter-widgets/base",
            "_view_module_version": "1.2.0",
            "_view_name": "LayoutView",
            "align_content": null,
            "align_items": null,
            "align_self": null,
            "border": null,
            "bottom": null,
            "display": null,
            "flex": null,
            "flex_flow": null,
            "grid_area": null,
            "grid_auto_columns": null,
            "grid_auto_flow": null,
            "grid_auto_rows": null,
            "grid_column": null,
            "grid_gap": null,
            "grid_row": null,
            "grid_template_areas": null,
            "grid_template_columns": null,
            "grid_template_rows": null,
            "height": null,
            "justify_content": null,
            "justify_items": null,
            "left": null,
            "margin": null,
            "max_height": null,
            "max_width": null,
            "min_height": null,
            "min_width": null,
            "object_fit": null,
            "object_position": null,
            "order": null,
            "overflow": null,
            "overflow_x": null,
            "overflow_y": null,
            "padding": null,
            "right": null,
            "top": null,
            "visibility": null,
            "width": null
          }
        },
        "a3a55a102d5c439ead4074f3176db637": {
          "model_module": "@jupyter-widgets/controls",
          "model_name": "DescriptionStyleModel",
          "model_module_version": "1.5.0",
          "state": {
            "_model_module": "@jupyter-widgets/controls",
            "_model_module_version": "1.5.0",
            "_model_name": "DescriptionStyleModel",
            "_view_count": null,
            "_view_module": "@jupyter-widgets/base",
            "_view_module_version": "1.2.0",
            "_view_name": "StyleView",
            "description_width": ""
          }
        }
      }
    }
  },
  "nbformat": 4,
  "nbformat_minor": 0
}